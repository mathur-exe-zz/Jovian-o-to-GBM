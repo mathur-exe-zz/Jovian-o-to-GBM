{
 "cells": [
  {
   "cell_type": "code",
   "execution_count": 1,
   "metadata": {},
   "outputs": [
    {
     "name": "stderr",
     "output_type": "stream",
     "text": [
      "/home/gaurang/.local/lib/python3.8/site-packages/xgboost/compat.py:36: FutureWarning: pandas.Int64Index is deprecated and will be removed from pandas in a future version. Use pandas.Index with the appropriate dtype instead.\n",
      "  from pandas import MultiIndex, Int64Index\n",
      "/home/gaurang/.local/lib/python3.8/site-packages/pkg_resources/__init__.py:122: PkgResourcesDeprecationWarning: 0.23ubuntu1 is an invalid version and will not be supported in a future release\n",
      "  warnings.warn(\n",
      "/home/gaurang/.local/lib/python3.8/site-packages/pkg_resources/__init__.py:122: PkgResourcesDeprecationWarning: 0.1.36ubuntu1 is an invalid version and will not be supported in a future release\n",
      "  warnings.warn(\n"
     ]
    }
   ],
   "source": [
    "import pandas as pd\n",
    "import numpy as np\n",
    "\n",
    "import graphviz\n",
    "from xgboost import XGBRegressor\n",
    "from xgboost import plot_tree \n",
    "from sklearn.model_selection import KFold\n",
    "from sklearn.metrics import mean_squared_error\n",
    "from sklearn.model_selection import train_test_split\n",
    "\n",
    "import matplotlib.pyplot as plt\n",
    "import seaborn as sns\n",
    "from matplotlib.pylab import rcParams\n",
    "rcParams['figure.figsize'] = 30, 30\n"
   ]
  },
  {
   "cell_type": "code",
   "execution_count": 2,
   "metadata": {},
   "outputs": [],
   "source": [
    "train_inputs = pd.read_csv('train_input.csv')\n",
    "train_targets = pd.read_csv('train_targets.csv')\n",
    "test_inputs = pd.read_csv('test_inputs.csv')"
   ]
  },
  {
   "cell_type": "code",
   "execution_count": 3,
   "metadata": {},
   "outputs": [
    {
     "data": {
      "text/html": [
       "<div>\n",
       "<style scoped>\n",
       "    .dataframe tbody tr th:only-of-type {\n",
       "        vertical-align: middle;\n",
       "    }\n",
       "\n",
       "    .dataframe tbody tr th {\n",
       "        vertical-align: top;\n",
       "    }\n",
       "\n",
       "    .dataframe thead th {\n",
       "        text-align: right;\n",
       "    }\n",
       "</style>\n",
       "<table border=\"1\" class=\"dataframe\">\n",
       "  <thead>\n",
       "    <tr style=\"text-align: right;\">\n",
       "      <th></th>\n",
       "      <th>Unnamed: 0</th>\n",
       "      <th>Store</th>\n",
       "      <th>Promo</th>\n",
       "      <th>SchoolHoliday</th>\n",
       "      <th>CompetitionDistance</th>\n",
       "      <th>Comp_Open</th>\n",
       "      <th>Promo2</th>\n",
       "      <th>Promo2Open</th>\n",
       "      <th>IsPromo2Month</th>\n",
       "      <th>Day</th>\n",
       "      <th>...</th>\n",
       "      <th>StateHoliday_a</th>\n",
       "      <th>StateHoliday_b</th>\n",
       "      <th>StateHoliday_c</th>\n",
       "      <th>StoreType_a</th>\n",
       "      <th>StoreType_b</th>\n",
       "      <th>StoreType_c</th>\n",
       "      <th>StoreType_d</th>\n",
       "      <th>Assortment_a</th>\n",
       "      <th>Assortment_b</th>\n",
       "      <th>Assortment_c</th>\n",
       "    </tr>\n",
       "  </thead>\n",
       "  <tbody>\n",
       "    <tr>\n",
       "      <th>0</th>\n",
       "      <td>0</td>\n",
       "      <td>0.000000</td>\n",
       "      <td>1.0</td>\n",
       "      <td>1.0</td>\n",
       "      <td>0.016482</td>\n",
       "      <td>0.059163</td>\n",
       "      <td>0.0</td>\n",
       "      <td>0.000000</td>\n",
       "      <td>0.0</td>\n",
       "      <td>1.0</td>\n",
       "      <td>...</td>\n",
       "      <td>0.0</td>\n",
       "      <td>0.0</td>\n",
       "      <td>0.0</td>\n",
       "      <td>0.0</td>\n",
       "      <td>0.0</td>\n",
       "      <td>1.0</td>\n",
       "      <td>0.0</td>\n",
       "      <td>1.0</td>\n",
       "      <td>0.0</td>\n",
       "      <td>0.0</td>\n",
       "    </tr>\n",
       "    <tr>\n",
       "      <th>1</th>\n",
       "      <td>1</td>\n",
       "      <td>0.000898</td>\n",
       "      <td>1.0</td>\n",
       "      <td>1.0</td>\n",
       "      <td>0.007252</td>\n",
       "      <td>0.066378</td>\n",
       "      <td>1.0</td>\n",
       "      <td>0.890710</td>\n",
       "      <td>1.0</td>\n",
       "      <td>1.0</td>\n",
       "      <td>...</td>\n",
       "      <td>0.0</td>\n",
       "      <td>0.0</td>\n",
       "      <td>0.0</td>\n",
       "      <td>1.0</td>\n",
       "      <td>0.0</td>\n",
       "      <td>0.0</td>\n",
       "      <td>0.0</td>\n",
       "      <td>1.0</td>\n",
       "      <td>0.0</td>\n",
       "      <td>0.0</td>\n",
       "    </tr>\n",
       "    <tr>\n",
       "      <th>2</th>\n",
       "      <td>2</td>\n",
       "      <td>0.001795</td>\n",
       "      <td>1.0</td>\n",
       "      <td>1.0</td>\n",
       "      <td>0.186050</td>\n",
       "      <td>0.074315</td>\n",
       "      <td>1.0</td>\n",
       "      <td>0.720856</td>\n",
       "      <td>1.0</td>\n",
       "      <td>1.0</td>\n",
       "      <td>...</td>\n",
       "      <td>0.0</td>\n",
       "      <td>0.0</td>\n",
       "      <td>0.0</td>\n",
       "      <td>1.0</td>\n",
       "      <td>0.0</td>\n",
       "      <td>0.0</td>\n",
       "      <td>0.0</td>\n",
       "      <td>1.0</td>\n",
       "      <td>0.0</td>\n",
       "      <td>0.0</td>\n",
       "    </tr>\n",
       "    <tr>\n",
       "      <th>3</th>\n",
       "      <td>3</td>\n",
       "      <td>0.002693</td>\n",
       "      <td>1.0</td>\n",
       "      <td>1.0</td>\n",
       "      <td>0.007911</td>\n",
       "      <td>0.050505</td>\n",
       "      <td>0.0</td>\n",
       "      <td>0.000000</td>\n",
       "      <td>0.0</td>\n",
       "      <td>1.0</td>\n",
       "      <td>...</td>\n",
       "      <td>0.0</td>\n",
       "      <td>0.0</td>\n",
       "      <td>0.0</td>\n",
       "      <td>0.0</td>\n",
       "      <td>0.0</td>\n",
       "      <td>1.0</td>\n",
       "      <td>0.0</td>\n",
       "      <td>0.0</td>\n",
       "      <td>0.0</td>\n",
       "      <td>1.0</td>\n",
       "    </tr>\n",
       "    <tr>\n",
       "      <th>4</th>\n",
       "      <td>4</td>\n",
       "      <td>0.003591</td>\n",
       "      <td>1.0</td>\n",
       "      <td>1.0</td>\n",
       "      <td>0.394119</td>\n",
       "      <td>0.002165</td>\n",
       "      <td>0.0</td>\n",
       "      <td>0.000000</td>\n",
       "      <td>0.0</td>\n",
       "      <td>1.0</td>\n",
       "      <td>...</td>\n",
       "      <td>0.0</td>\n",
       "      <td>0.0</td>\n",
       "      <td>0.0</td>\n",
       "      <td>1.0</td>\n",
       "      <td>0.0</td>\n",
       "      <td>0.0</td>\n",
       "      <td>0.0</td>\n",
       "      <td>1.0</td>\n",
       "      <td>0.0</td>\n",
       "      <td>0.0</td>\n",
       "    </tr>\n",
       "  </tbody>\n",
       "</table>\n",
       "<p>5 rows × 31 columns</p>\n",
       "</div>"
      ],
      "text/plain": [
       "   Unnamed: 0     Store  Promo  SchoolHoliday  CompetitionDistance  Comp_Open  \\\n",
       "0           0  0.000000    1.0            1.0             0.016482   0.059163   \n",
       "1           1  0.000898    1.0            1.0             0.007252   0.066378   \n",
       "2           2  0.001795    1.0            1.0             0.186050   0.074315   \n",
       "3           3  0.002693    1.0            1.0             0.007911   0.050505   \n",
       "4           4  0.003591    1.0            1.0             0.394119   0.002165   \n",
       "\n",
       "   Promo2  Promo2Open  IsPromo2Month  Day  ...  StateHoliday_a  \\\n",
       "0     0.0    0.000000            0.0  1.0  ...             0.0   \n",
       "1     1.0    0.890710            1.0  1.0  ...             0.0   \n",
       "2     1.0    0.720856            1.0  1.0  ...             0.0   \n",
       "3     0.0    0.000000            0.0  1.0  ...             0.0   \n",
       "4     0.0    0.000000            0.0  1.0  ...             0.0   \n",
       "\n",
       "   StateHoliday_b  StateHoliday_c  StoreType_a  StoreType_b  StoreType_c  \\\n",
       "0             0.0             0.0          0.0          0.0          1.0   \n",
       "1             0.0             0.0          1.0          0.0          0.0   \n",
       "2             0.0             0.0          1.0          0.0          0.0   \n",
       "3             0.0             0.0          0.0          0.0          1.0   \n",
       "4             0.0             0.0          1.0          0.0          0.0   \n",
       "\n",
       "   StoreType_d  Assortment_a  Assortment_b  Assortment_c  \n",
       "0          0.0           1.0           0.0           0.0  \n",
       "1          0.0           1.0           0.0           0.0  \n",
       "2          0.0           1.0           0.0           0.0  \n",
       "3          0.0           0.0           0.0           1.0  \n",
       "4          0.0           1.0           0.0           0.0  \n",
       "\n",
       "[5 rows x 31 columns]"
      ]
     },
     "execution_count": 3,
     "metadata": {},
     "output_type": "execute_result"
    }
   ],
   "source": [
    "train_inputs.head()"
   ]
  },
  {
   "cell_type": "code",
   "execution_count": 4,
   "metadata": {},
   "outputs": [
    {
     "data": {
      "text/html": [
       "<div>\n",
       "<style scoped>\n",
       "    .dataframe tbody tr th:only-of-type {\n",
       "        vertical-align: middle;\n",
       "    }\n",
       "\n",
       "    .dataframe tbody tr th {\n",
       "        vertical-align: top;\n",
       "    }\n",
       "\n",
       "    .dataframe thead th {\n",
       "        text-align: right;\n",
       "    }\n",
       "</style>\n",
       "<table border=\"1\" class=\"dataframe\">\n",
       "  <thead>\n",
       "    <tr style=\"text-align: right;\">\n",
       "      <th></th>\n",
       "      <th>Unnamed: 0</th>\n",
       "      <th>Sales</th>\n",
       "    </tr>\n",
       "  </thead>\n",
       "  <tbody>\n",
       "    <tr>\n",
       "      <th>0</th>\n",
       "      <td>0</td>\n",
       "      <td>5263</td>\n",
       "    </tr>\n",
       "    <tr>\n",
       "      <th>1</th>\n",
       "      <td>1</td>\n",
       "      <td>6064</td>\n",
       "    </tr>\n",
       "    <tr>\n",
       "      <th>2</th>\n",
       "      <td>2</td>\n",
       "      <td>8314</td>\n",
       "    </tr>\n",
       "    <tr>\n",
       "      <th>3</th>\n",
       "      <td>3</td>\n",
       "      <td>13995</td>\n",
       "    </tr>\n",
       "    <tr>\n",
       "      <th>4</th>\n",
       "      <td>4</td>\n",
       "      <td>4822</td>\n",
       "    </tr>\n",
       "    <tr>\n",
       "      <th>...</th>\n",
       "      <td>...</td>\n",
       "      <td>...</td>\n",
       "    </tr>\n",
       "    <tr>\n",
       "      <th>844387</th>\n",
       "      <td>1016776</td>\n",
       "      <td>3375</td>\n",
       "    </tr>\n",
       "    <tr>\n",
       "      <th>844388</th>\n",
       "      <td>1016827</td>\n",
       "      <td>10765</td>\n",
       "    </tr>\n",
       "    <tr>\n",
       "      <th>844389</th>\n",
       "      <td>1016863</td>\n",
       "      <td>5035</td>\n",
       "    </tr>\n",
       "    <tr>\n",
       "      <th>844390</th>\n",
       "      <td>1017042</td>\n",
       "      <td>4491</td>\n",
       "    </tr>\n",
       "    <tr>\n",
       "      <th>844391</th>\n",
       "      <td>1017190</td>\n",
       "      <td>5961</td>\n",
       "    </tr>\n",
       "  </tbody>\n",
       "</table>\n",
       "<p>844392 rows × 2 columns</p>\n",
       "</div>"
      ],
      "text/plain": [
       "        Unnamed: 0  Sales\n",
       "0                0   5263\n",
       "1                1   6064\n",
       "2                2   8314\n",
       "3                3  13995\n",
       "4                4   4822\n",
       "...            ...    ...\n",
       "844387     1016776   3375\n",
       "844388     1016827  10765\n",
       "844389     1016863   5035\n",
       "844390     1017042   4491\n",
       "844391     1017190   5961\n",
       "\n",
       "[844392 rows x 2 columns]"
      ]
     },
     "execution_count": 4,
     "metadata": {},
     "output_type": "execute_result"
    }
   ],
   "source": [
    "train_targets"
   ]
  },
  {
   "cell_type": "code",
   "execution_count": 5,
   "metadata": {},
   "outputs": [],
   "source": [
    "train_targets.drop('Unnamed: 0', axis=1, inplace=True)"
   ]
  },
  {
   "cell_type": "markdown",
   "metadata": {},
   "source": [
    "## XGBoost Regression Model "
   ]
  },
  {
   "cell_type": "code",
   "execution_count": 6,
   "metadata": {},
   "outputs": [],
   "source": [
    "model = XGBRegressor(random_state=42, n_jobs=-1, n_estimators=20, max_depth=4)"
   ]
  },
  {
   "cell_type": "code",
   "execution_count": 7,
   "metadata": {},
   "outputs": [
    {
     "name": "stderr",
     "output_type": "stream",
     "text": [
      "/home/gaurang/.local/lib/python3.8/site-packages/xgboost/data.py:262: FutureWarning: pandas.Int64Index is deprecated and will be removed from pandas in a future version. Use pandas.Index with the appropriate dtype instead.\n",
      "  elif isinstance(data.columns, (pd.Int64Index, pd.RangeIndex)):\n"
     ]
    },
    {
     "name": "stdout",
     "output_type": "stream",
     "text": [
      "CPU times: user 56.3 s, sys: 694 ms, total: 57 s\n",
      "Wall time: 9.4 s\n"
     ]
    },
    {
     "data": {
      "text/plain": [
       "XGBRegressor(base_score=0.5, booster='gbtree', colsample_bylevel=1,\n",
       "             colsample_bynode=1, colsample_bytree=1, enable_categorical=False,\n",
       "             gamma=0, gpu_id=-1, importance_type=None,\n",
       "             interaction_constraints='', learning_rate=0.300000012,\n",
       "             max_delta_step=0, max_depth=4, min_child_weight=1, missing=nan,\n",
       "             monotone_constraints='()', n_estimators=20, n_jobs=-1,\n",
       "             num_parallel_tree=1, predictor='auto', random_state=42,\n",
       "             reg_alpha=0, reg_lambda=1, scale_pos_weight=1, subsample=1,\n",
       "             tree_method='exact', validate_parameters=1, verbosity=None)"
      ]
     },
     "execution_count": 7,
     "metadata": {},
     "output_type": "execute_result"
    }
   ],
   "source": [
    "%%time\n",
    "model.fit(train_inputs, train_targets)"
   ]
  },
  {
   "cell_type": "code",
   "execution_count": 8,
   "metadata": {},
   "outputs": [
    {
     "data": {
      "text/plain": [
       "array([ 7919.3804,  7355.0576,  7958.8174, ...,  6472.0425,  9533.734 ,\n",
       "       10538.794 ], dtype=float32)"
      ]
     },
     "execution_count": 8,
     "metadata": {},
     "output_type": "execute_result"
    }
   ],
   "source": [
    "preds = model.predict(train_inputs)\n",
    "preds"
   ]
  },
  {
   "cell_type": "code",
   "execution_count": 9,
   "metadata": {},
   "outputs": [],
   "source": [
    "def rmse(a, b):\n",
    "  return mean_squared_error(a, b, squared=False)"
   ]
  },
  {
   "cell_type": "code",
   "execution_count": 11,
   "metadata": {},
   "outputs": [],
   "source": [
    "# plot_tree(model, rankdir='LR')"
   ]
  },
  {
   "cell_type": "code",
   "execution_count": 12,
   "metadata": {},
   "outputs": [],
   "source": [
    "# plot_tree(model, rankdir='LR', num_trees=1);"
   ]
  },
  {
   "cell_type": "code",
   "execution_count": 14,
   "metadata": {},
   "outputs": [],
   "source": [
    "# plot_tree(model, rankdir='LR', num_trees=10)"
   ]
  },
  {
   "cell_type": "code",
   "execution_count": 15,
   "metadata": {},
   "outputs": [
    {
     "name": "stdout",
     "output_type": "stream",
     "text": [
      "20\n",
      "------------------------------------\n",
      "0:[Promo<0.5] yes=1,no=2,missing=1\n",
      "\t1:[StoreType_b<0.5] yes=3,no=4,missing=3\n",
      "\t\t3:[Assortment_a<0.5] yes=7,no=8,missing=7\n",
      "\t\t\t7:[CompetitionDistance<0.00441719405] yes=15,no=16,missing=15\n",
      "\t\t\t\t15:leaf=2309.51147\n",
      "\t\t\t\t16:leaf=1823.30444\n",
      "\t\t\t8:[WeekOfYear<0.911764741] yes=17,no=18,missing=17\n",
      "\t\t\t\t17:leaf=1619.43994\n",
      "\t\t\t\t18:leaf=2002.44897\n",
      "\t\t4:[CompetitionDistance<0.01602057] yes=9,no=10,missing=9\n",
      "\t\t\t9:[CompetitionDistance<0.0134493671] yes=19,no=20,missing=19\n",
      "\t\t\t\t19:leaf=2740.44067\n",
      "\t\t\t\t20:leaf=5576.85889\n",
      "\t\t\t10:[DayOfWeek_7<0.5] yes=21,no=22,missing=21\n",
      "\t\t\t\t21:leaf=1898.36487\n",
      "\t\t\t\t22:leaf=2961.08765\n",
      "\t2:[DayOfWeek_1<0.5] yes=5,no=6,missing=5\n",
      "\t\t5:[Month<0.954545498] yes=11,no=12,missing=11\n",
      "\t\t\t11:[StoreType_b<0.5] yes=23,no=24,missing=23\n",
      "\t\t\t\t23:leaf=2295.30566\n",
      "\t\t\t\t24:leaf=3294.27759\n",
      "\t\t\t12:[Day<0.333333343] yes=25,no=26,missing=25\n",
      "\t\t\t\t25:leaf=2754.58521\n",
      "\t\t\t\t26:leaf=3246.39014\n",
      "\t\t6:[Month<0.954545498] yes=13,no=14,missing=13\n",
      "\t\t\t13:[CompetitionDistance<0.002703059] yes=27,no=28,missing=27\n",
      "\t\t\t\t27:leaf=3347.80688\n",
      "\t\t\t\t28:leaf=2839.39551\n",
      "\t\t\t14:[Day<0.25] yes=29,no=30,missing=29\n",
      "\t\t\t\t29:leaf=3400.54419\n",
      "\t\t\t\t30:leaf=4059.85938\n",
      "\n"
     ]
    }
   ],
   "source": [
    "trees = model.get_booster().get_dump()\n",
    "print(len(trees))\n",
    "print('------------------------------------')\n",
    "print(trees[0])"
   ]
  },
  {
   "cell_type": "code",
   "execution_count": 16,
   "metadata": {},
   "outputs": [
    {
     "data": {
      "text/html": [
       "<div>\n",
       "<style scoped>\n",
       "    .dataframe tbody tr th:only-of-type {\n",
       "        vertical-align: middle;\n",
       "    }\n",
       "\n",
       "    .dataframe tbody tr th {\n",
       "        vertical-align: top;\n",
       "    }\n",
       "\n",
       "    .dataframe thead th {\n",
       "        text-align: right;\n",
       "    }\n",
       "</style>\n",
       "<table border=\"1\" class=\"dataframe\">\n",
       "  <thead>\n",
       "    <tr style=\"text-align: right;\">\n",
       "      <th></th>\n",
       "      <th>feature</th>\n",
       "      <th>imp</th>\n",
       "    </tr>\n",
       "  </thead>\n",
       "  <tbody>\n",
       "    <tr>\n",
       "      <th>2</th>\n",
       "      <td>Promo</td>\n",
       "      <td>0.293443</td>\n",
       "    </tr>\n",
       "    <tr>\n",
       "      <th>27</th>\n",
       "      <td>StoreType_d</td>\n",
       "      <td>0.083303</td>\n",
       "    </tr>\n",
       "    <tr>\n",
       "      <th>25</th>\n",
       "      <td>StoreType_b</td>\n",
       "      <td>0.080397</td>\n",
       "    </tr>\n",
       "    <tr>\n",
       "      <th>13</th>\n",
       "      <td>DayOfWeek_1</td>\n",
       "      <td>0.076351</td>\n",
       "    </tr>\n",
       "    <tr>\n",
       "      <th>6</th>\n",
       "      <td>Promo2</td>\n",
       "      <td>0.060924</td>\n",
       "    </tr>\n",
       "  </tbody>\n",
       "</table>\n",
       "</div>"
      ],
      "text/plain": [
       "        feature       imp\n",
       "2         Promo  0.293443\n",
       "27  StoreType_d  0.083303\n",
       "25  StoreType_b  0.080397\n",
       "13  DayOfWeek_1  0.076351\n",
       "6        Promo2  0.060924"
      ]
     },
     "execution_count": 16,
     "metadata": {},
     "output_type": "execute_result"
    }
   ],
   "source": [
    "importance_df = pd.DataFrame({\n",
    "    'feature': train_inputs.columns,\n",
    "    'imp': model.feature_importances_\n",
    "}).sort_values('imp', ascending=False)\n",
    "\n",
    "importance_df.head()"
   ]
  },
  {
   "cell_type": "code",
   "execution_count": 17,
   "metadata": {},
   "outputs": [
    {
     "data": {
      "image/png": "[encoded data removed]",
      "text/plain": [
       "<Figure size 720x432 with 1 Axes>"
      ]
     },
     "metadata": {
      "needs_background": "light"
     },
     "output_type": "display_data"
    }
   ],
   "source": [
    "plt.figure(figsize=(10,6))\n",
    "plt.title('Feature Importance')\n",
    "sns.barplot(data=importance_df.head(10), x='imp', y='feature');"
   ]
  },
  {
   "cell_type": "markdown",
   "metadata": {},
   "source": [
    "## KFold Cross Validation "
   ]
  },
  {
   "cell_type": "code",
   "execution_count": null,
   "metadata": {},
   "outputs": [],
   "source": [
    "kfold = KFold(n_splits=5)"
   ]
  },
  {
   "cell_type": "code",
   "execution_count": null,
   "metadata": {},
   "outputs": [],
   "source": [
    "'''\n",
    "    Helper function to intialize model and calculate train & validation rmse scores\n",
    "'''\n",
    "\n",
    "def train_and_evaluate(X_train, train_targets, X_val, val_targets, **params):\n",
    "  model = XGBRegressor(random_state=42, n_jobs=-1, **params)\n",
    "  model.fit(X_train, train_targets)\n",
    "  train_rmse = rmse(model.predict(X_train), train_targets)\n",
    "  val_rmse = rmse(model.predict(X_val), val_targets)\n",
    "  return model, train_rmse, val_rmse"
   ]
  },
  {
   "cell_type": "code",
   "execution_count": null,
   "metadata": {},
   "outputs": [],
   "source": [
    "models = []\n",
    "\n",
    "for train_idxs, val_idxs in kfold.split(train_inputs):\n",
    "\n",
    "  # Using kfold to split datasets\n",
    "  train_input, train_target = train_inputs.iloc[train_idxs], train_targets.iloc[train_idxs]\n",
    "  val_input, val_target = train_inputs.iloc[val_idxs], train_targets.iloc[val_idxs]\n",
    "\n",
    "  model, train_rmse, val_rmse = train_and_evaluate(train_input, \n",
    "                                                     train_target, \n",
    "                                                     val_input, \n",
    "                                                     val_target, \n",
    "                                                     max_depth=4, \n",
    "                                                     n_estimators=20)\n",
    "  models.append(model)\n",
    "  print('Train RMSE: {}, Validation RMSE: {}'.format(train_rmse, val_rmse))"
   ]
  },
  {
   "cell_type": "code",
   "execution_count": null,
   "metadata": {},
   "outputs": [],
   "source": [
    "def pred_avg(models, inputs):\n",
    "  return np.mean([model.predict(inputs) for model in models], axis=0)\n",
    "\n",
    "preds = pred_avg(models, train_inputs)\n",
    "preds"
   ]
  },
  {
   "cell_type": "markdown",
   "metadata": {},
   "source": [
    "## Hyperparameter Tunning"
   ]
  },
  {
   "cell_type": "code",
   "execution_count": null,
   "metadata": {},
   "outputs": [],
   "source": [
    "'''\n",
    "   Here is helper function to split dataset for XGBoost model and test it on different hyperparameters \n",
    "'''\n",
    "\n",
    "def test_params_kfold(n_splits, **params):\n",
    "    train_rmses, val_rmses, models = [], [], []\n",
    "    kfold = KFold(n_splits)\n",
    "    for train_idxs, val_idxs in kfold.split(X):\n",
    "        X_train, train_targets = X.iloc[train_idxs], targets.iloc[train_idxs]\n",
    "        X_val, val_targets = X.iloc[val_idxs], targets.iloc[val_idxs]\n",
    "        model, train_rmse, val_rmse = train_and_evaluate(X_train, train_targets, X_val, val_targets, **params)\n",
    "        models.append(model)\n",
    "        train_rmses.append(train_rmse)\n",
    "        val_rmses.append(val_rmse)\n",
    "    print('Train RMSE: {}, Validation RMSE: {}'.format(np.mean(train_rmses), np.mean(val_rmses)))\n",
    "    return models"
   ]
  },
  {
   "cell_type": "code",
   "execution_count": null,
   "metadata": {},
   "outputs": [],
   "source": [
    "train_input, val_input, train_target, val_target = train_test_split(train_inputs, train_targets, test_size=0.1)\n",
    "\n",
    "def test_params(**params):\n",
    "  model = XGBRegressor(n_job=-1, random_state=42, **params)\n",
    "  model.fit(train_input, train_target)\n",
    "  preds = model.predict(train_input)\n",
    "  train_rmse = rmse(preds, train_target)\n",
    "  preds = model.predict(val_input)\n",
    "  val_rmse = rmse(preds, val_target)\n",
    "  print('Train RMSE: {}, Validation RMSE: {}'.format(train_rmse, val_rmse))"
   ]
  },
  {
   "cell_type": "markdown",
   "metadata": {},
   "source": [
    "### `test_params`\n",
    "\n",
    "1. `max_depth` = [2, 5, 10] \n",
    "2. `n_estimators=50, learning_rate=0.1` = {(50, 0.01), (50, 0.01), (50, 0.1), (50, 0.3), (50, 0.9), (50, 0.99)}"
   ]
  },
  {
   "cell_type": "code",
   "execution_count": null,
   "metadata": {},
   "outputs": [],
   "source": [
    "model = XGBRegressor(n_jobs=-1, random_state=42, n_estimators=1000, \n",
    "                     learning_rate=0.2, max_depth=10, subsample=0.9, \n",
    "                     colsample_bytree=0.7)"
   ]
  },
  {
   "cell_type": "code",
   "execution_count": null,
   "metadata": {},
   "outputs": [],
   "source": [
    "%%time\n",
    "model.fit(train_inputs, train_targets)"
   ]
  },
  {
   "cell_type": "code",
   "execution_count": null,
   "metadata": {},
   "outputs": [],
   "source": [
    "test_preds = model.predict(test_inputs)"
   ]
  },
  {
   "cell_type": "code",
   "execution_count": null,
   "metadata": {},
   "outputs": [],
   "source": [
    "sub_df"
   ]
  },
  {
   "cell_type": "code",
   "execution_count": null,
   "metadata": {},
   "outputs": [],
   "source": [
    "sub_df['Sales']  = test_preds\n",
    "sub_df"
   ]
  },
  {
   "cell_type": "code",
   "execution_count": null,
   "metadata": {},
   "outputs": [],
   "source": [
    "sub_df.to_csv('submission.csv', index=None)"
   ]
  }
 ],
 "metadata": {
  "interpreter": {
   "hash": "916dbcbb3f70747c44a77c7bcd40155683ae19c65e1c03b4aa3499c5328201f1"
  },
  "kernelspec": {
   "display_name": "Python 3.8.10 64-bit",
   "language": "python",
   "name": "python3"
  },
  "language_info": {
   "codemirror_mode": {
    "name": "ipython",
    "version": 3
   },
   "file_extension": ".py",
   "mimetype": "text/x-python",
   "name": "python",
   "nbconvert_exporter": "python",
   "pygments_lexer": "ipython3",
   "version": "3.8.10"
  },
  "orig_nbformat": 4
 },
 "nbformat": 4,
 "nbformat_minor": 2
}
