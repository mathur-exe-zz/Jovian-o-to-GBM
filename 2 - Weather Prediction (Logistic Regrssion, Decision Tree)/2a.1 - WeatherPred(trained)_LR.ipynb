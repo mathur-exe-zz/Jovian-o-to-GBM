{
 "cells": [
  {
   "cell_type": "code",
   "execution_count": 1,
   "metadata": {},
   "outputs": [],
   "source": [
    "import pandas as pd\n",
    "import numpy as np\n",
    "from sklearn.impute import SimpleImputer\n",
    "from sklearn.preprocessing import MinMaxScaler, OneHotEncoder "
   ]
  },
  {
   "cell_type": "code",
   "execution_count": 2,
   "metadata": {},
   "outputs": [],
   "source": [
    "import matplotlib.pyplot as plt\n",
    "import seaborn as sns\n",
    "import plotly.express as px "
   ]
  },
  {
   "cell_type": "markdown",
   "metadata": {},
   "source": [
    "Loading Parquet Files"
   ]
  },
  {
   "cell_type": "code",
   "execution_count": 3,
   "metadata": {},
   "outputs": [],
   "source": [
    "rain_input = pd.read_parquet('weather_inputs.parpuet')\n",
    "# train_input = pd.read_parquet('train_inputs.parpuet')\n",
    "# val_input = pd.read_parquet('val_inputs.parpuet')\n",
    "# test_input = pd.read_parquet('test_inputs.parpuet')\n",
    "\n",
    "rain_target = pd.read_parquet('weather_targets.parpuet')\n",
    "# train_target = pd.read_parquet('train_targets.parpuet')\n",
    "# val_target = pd.read_parquet('val_targets.parpuet')\n",
    "# test_targer = pd.read_parquet('test_targets.parpuet')"
   ]
  },
  {
   "cell_type": "code",
   "execution_count": 5,
   "metadata": {},
   "outputs": [],
   "source": [
    "from sklearn.linear_model import LinearRegression\n",
    "from sklearn.metrics import accuracy_score, confusion_matrix\n",
    "import joblib"
   ]
  },
  {
   "cell_type": "code",
   "execution_count": 6,
   "metadata": {},
   "outputs": [
    {
     "data": {
      "text/plain": [
       "{'model': LogisticRegression(solver='liblinear'),\n",
       " 'imputer': SimpleImputer(),\n",
       " 'scaler': MinMaxScaler(),\n",
       " 'encoder': OneHotEncoder(handle_unknown='ignore', sparse=False),\n",
       " 'input_cols': ['Location',\n",
       "  'MinTemp',\n",
       "  'MaxTemp',\n",
       "  'Rainfall',\n",
       "  'Evaporation',\n",
       "  'Sunshine',\n",
       "  'WindGustDir',\n",
       "  'WindGustSpeed',\n",
       "  'WindDir9am',\n",
       "  'WindDir3pm',\n",
       "  'WindSpeed9am',\n",
       "  'WindSpeed3pm',\n",
       "  'Humidity9am',\n",
       "  'Humidity3pm',\n",
       "  'Pressure9am',\n",
       "  'Pressure3pm',\n",
       "  'Cloud9am',\n",
       "  'Cloud3pm',\n",
       "  'Temp9am',\n",
       "  'Temp3pm',\n",
       "  'RainToday'],\n",
       " 'target_col': 'RainTomorrow',\n",
       " 'numeric_cols': ['MinTemp',\n",
       "  'MaxTemp',\n",
       "  'Rainfall',\n",
       "  'Evaporation',\n",
       "  'Sunshine',\n",
       "  'WindGustSpeed',\n",
       "  'WindSpeed9am',\n",
       "  'WindSpeed3pm',\n",
       "  'Humidity9am',\n",
       "  'Humidity3pm',\n",
       "  'Pressure9am',\n",
       "  'Pressure3pm',\n",
       "  'Cloud9am',\n",
       "  'Cloud3pm',\n",
       "  'Temp9am'],\n",
       " 'categorical_cols': ['Location',\n",
       "  'WindGustDir',\n",
       "  'WindDir9am',\n",
       "  'WindDir3pm',\n",
       "  'RainToday'],\n",
       " 'encoded_cols': ['Location_Adelaide',\n",
       "  'Location_Albany',\n",
       "  'Location_Albury',\n",
       "  'Location_AliceSprings',\n",
       "  'Location_BadgerysCreek',\n",
       "  'Location_Ballarat',\n",
       "  'Location_Bendigo',\n",
       "  'Location_Brisbane',\n",
       "  'Location_Cairns',\n",
       "  'Location_Canberra',\n",
       "  'Location_Cobar',\n",
       "  'Location_CoffsHarbour',\n",
       "  'Location_Dartmoor',\n",
       "  'Location_Darwin',\n",
       "  'Location_GoldCoast',\n",
       "  'Location_Hobart',\n",
       "  'Location_Katherine',\n",
       "  'Location_Launceston',\n",
       "  'Location_Melbourne',\n",
       "  'Location_MelbourneAirport',\n",
       "  'Location_Mildura',\n",
       "  'Location_Moree',\n",
       "  'Location_MountGambier',\n",
       "  'Location_MountGinini',\n",
       "  'Location_Newcastle',\n",
       "  'Location_Nhil',\n",
       "  'Location_NorahHead',\n",
       "  'Location_NorfolkIsland',\n",
       "  'Location_Nuriootpa',\n",
       "  'Location_PearceRAAF',\n",
       "  'Location_Penrith',\n",
       "  'Location_Perth',\n",
       "  'Location_PerthAirport',\n",
       "  'Location_Portland',\n",
       "  'Location_Richmond',\n",
       "  'Location_Sale',\n",
       "  'Location_SalmonGums',\n",
       "  'Location_Sydney',\n",
       "  'Location_SydneyAirport',\n",
       "  'Location_Townsville',\n",
       "  'Location_Tuggeranong',\n",
       "  'Location_Uluru',\n",
       "  'Location_WaggaWagga',\n",
       "  'Location_Walpole',\n",
       "  'Location_Watsonia',\n",
       "  'Location_Williamtown',\n",
       "  'Location_Witchcliffe',\n",
       "  'Location_Wollongong',\n",
       "  'Location_Woomera',\n",
       "  'WindGustDir_E',\n",
       "  'WindGustDir_ENE',\n",
       "  'WindGustDir_ESE',\n",
       "  'WindGustDir_N',\n",
       "  'WindGustDir_NE',\n",
       "  'WindGustDir_NNE',\n",
       "  'WindGustDir_NNW',\n",
       "  'WindGustDir_NW',\n",
       "  'WindGustDir_S',\n",
       "  'WindGustDir_SE',\n",
       "  'WindGustDir_SSE',\n",
       "  'WindGustDir_SSW',\n",
       "  'WindGustDir_SW',\n",
       "  'WindGustDir_W',\n",
       "  'WindGustDir_WNW',\n",
       "  'WindGustDir_WSW',\n",
       "  'WindGustDir_nan',\n",
       "  'WindDir9am_E',\n",
       "  'WindDir9am_ENE',\n",
       "  'WindDir9am_ESE',\n",
       "  'WindDir9am_N',\n",
       "  'WindDir9am_NE',\n",
       "  'WindDir9am_NNE',\n",
       "  'WindDir9am_NNW',\n",
       "  'WindDir9am_NW',\n",
       "  'WindDir9am_S',\n",
       "  'WindDir9am_SE',\n",
       "  'WindDir9am_SSE',\n",
       "  'WindDir9am_SSW',\n",
       "  'WindDir9am_SW',\n",
       "  'WindDir9am_W',\n",
       "  'WindDir9am_WNW',\n",
       "  'WindDir9am_WSW',\n",
       "  'WindDir9am_nan',\n",
       "  'WindDir3pm_E',\n",
       "  'WindDir3pm_ENE',\n",
       "  'WindDir3pm_ESE',\n",
       "  'WindDir3pm_N',\n",
       "  'WindDir3pm_NE',\n",
       "  'WindDir3pm_NNE',\n",
       "  'WindDir3pm_NNW',\n",
       "  'WindDir3pm_NW',\n",
       "  'WindDir3pm_S',\n",
       "  'WindDir3pm_SE',\n",
       "  'WindDir3pm_SSE',\n",
       "  'WindDir3pm_SSW',\n",
       "  'WindDir3pm_SW',\n",
       "  'WindDir3pm_W',\n",
       "  'WindDir3pm_WNW',\n",
       "  'WindDir3pm_WSW',\n",
       "  'WindDir3pm_nan',\n",
       "  'RainToday_No',\n",
       "  'RainToday_Yes']}"
      ]
     },
     "execution_count": 6,
     "metadata": {},
     "output_type": "execute_result"
    }
   ],
   "source": [
    "model2 = joblib.load('Weather_pred.joblib')\n",
    "model2"
   ]
  },
  {
   "cell_type": "code",
   "execution_count": 7,
   "metadata": {},
   "outputs": [
    {
     "data": {
      "text/plain": [
       "array([[ 9.82945297e-01, -1.61385789e+00,  3.25684752e+00,\n",
       "         7.39368590e-01, -1.66573086e+00,  6.71277020e+00,\n",
       "        -8.94606508e-01, -1.47865085e+00,  5.08617728e-01,\n",
       "         5.66897424e+00,  5.75142698e+00, -9.44242406e+00,\n",
       "        -1.54232343e-01,  1.26927031e+00,  9.61060276e-01,\n",
       "         5.96811815e-01, -5.43362082e-01,  4.84103408e-01,\n",
       "         1.26967082e-02,  3.42102551e-01, -3.50290821e-01,\n",
       "         1.81448852e-01,  4.25853922e-01, -4.90976887e-03,\n",
       "         1.54237867e-02,  2.53766995e-01, -1.83977593e-02,\n",
       "        -3.04697363e-02, -4.67297535e-01, -1.44192180e-01,\n",
       "        -5.90817375e-01, -7.44585621e-01, -2.49884062e-01,\n",
       "        -3.28671106e-01, -5.70918989e-01,  8.01673605e-02,\n",
       "         1.40377925e-02,  5.99543919e-02, -8.77143892e-01,\n",
       "        -4.41490005e-01,  1.18433531e-02, -4.59483437e-01,\n",
       "        -4.60186631e-01, -7.46882059e-02,  1.94560074e-01,\n",
       "         4.45679113e-01,  6.07372133e-01,  4.30391895e-01,\n",
       "        -2.08914221e-02,  2.53152319e-01, -3.19391861e-01,\n",
       "         4.06657475e-01, -5.79771521e-02, -1.11408811e-01,\n",
       "        -7.15540281e-01,  3.58707350e-01,  1.96026075e-01,\n",
       "         1.82365461e-01,  1.81920474e-01, -2.52513092e-01,\n",
       "         2.16790304e-02,  6.91571709e-01, -7.93568035e-01,\n",
       "        -1.84153460e-01, -1.53094723e-01, -1.51394191e-01,\n",
       "        -5.54983791e-02, -2.17588805e-01, -2.25172667e-01,\n",
       "        -3.14971668e-01, -1.60589099e-01, -1.53157137e-01,\n",
       "        -1.02293503e-01, -2.69273351e-02, -4.35546637e-02,\n",
       "        -8.85037657e-02, -8.75388914e-02, -2.22396687e-01,\n",
       "        -2.58463546e-01, -1.99656163e-01,  9.68619439e-02,\n",
       "        -3.09335097e-01, -2.16492867e-02, -3.20625555e-01,\n",
       "         3.04679474e-02, -1.75833388e-02,  1.48340386e-01,\n",
       "        -6.36069806e-02, -5.75708002e-02, -4.02596235e-01,\n",
       "        -3.00922372e-01, -3.98949736e-01, -1.87421864e-01,\n",
       "        -5.34890029e-02, -8.16063014e-02, -5.46184927e-02,\n",
       "        -1.02809597e-02, -2.62491591e-01, -2.33616577e-01,\n",
       "        -1.43287466e-01, -2.32037285e-01,  5.01685232e-02,\n",
       "        -2.99290884e-01, -6.87503316e-02,  2.97906020e-01,\n",
       "         2.31584550e-01, -2.67756230e-01, -2.39798156e-01,\n",
       "        -3.67644987e-01, -3.21600434e-01, -3.76220446e-01,\n",
       "        -1.81052282e-01, -2.76926984e-02, -2.81539651e-01,\n",
       "         9.66890553e-02, -1.43015257e+00, -9.33786704e-01]])"
      ]
     },
     "execution_count": 7,
     "metadata": {},
     "output_type": "execute_result"
    }
   ],
   "source": [
    "model2['model'].coef_"
   ]
  },
  {
   "cell_type": "code",
   "execution_count": 8,
   "metadata": {},
   "outputs": [],
   "source": [
    "numeric_cols = rain_input.select_dtypes(include=np.number).columns.tolist()[:-1]\n",
    "categorical_col = rain_target.select_dtypes('object').columns.tolist()"
   ]
  },
  {
   "cell_type": "code",
   "execution_count": 9,
   "metadata": {},
   "outputs": [
    {
     "name": "stderr",
     "output_type": "stream",
     "text": [
      "/home/gaurang/.local/lib/python3.8/site-packages/sklearn/utils/deprecation.py:87: FutureWarning: Function get_feature_names is deprecated; get_feature_names is deprecated in 1.0 and will be removed in 1.2. Please use get_feature_names_out instead.\n",
      "  warnings.warn(msg, category=FutureWarning)\n"
     ]
    }
   ],
   "source": [
    "imputer = SimpleImputer(strategy='mean').fit(rain_input[numeric_cols]);\n",
    "scaler = MinMaxScaler().fit(rain_input[numeric_cols]);\n",
    "enc = OneHotEncoder(sparse=False, handle_unknown='ignore').fit(rain_target[categorical_col]);\n",
    "enc_col = list(enc.get_feature_names(categorical_col));"
   ]
  },
  {
   "cell_type": "code",
   "execution_count": 10,
   "metadata": {},
   "outputs": [],
   "source": [
    "def predict_input(single_input):\n",
    "    input_df = pd.DataFrame([single_input])\n",
    "    input_df[numeric_cols] = imputer.transform(input_df[numeric_cols])\n",
    "    input_df[numeric_cols] = scaler.transform(input_df[numeric_cols])\n",
    "    input_df[enc_col] = enc.transform(input_df[categorical_col])\n",
    "    X_input = input_df[numeric_cols + enc_col]\n",
    "    pred = model2.predict(X_input)[0]\n",
    "    prob = model2.predict_proba(X_input)[0][list(model2.classes_).index(pred)]\n",
    "    return pred, prob"
   ]
  },
  {
   "cell_type": "code",
   "execution_count": 11,
   "metadata": {},
   "outputs": [],
   "source": [
    "new_input = {'Date': '2021-06-19',\n",
    "             'Location': 'Launceston',\n",
    "             'MinTemp': 23.2,\n",
    "             'MaxTemp': 33.2,\n",
    "             'Rainfall': 10.2,\n",
    "             'Evaporation': 4.2,\n",
    "             'Sunshine': np.nan,\n",
    "             'WindGustDir': 'NNW',\n",
    "             'WindGustSpeed': 52.0,\n",
    "             'WindDir9am': 'NW',\n",
    "             'WindDir3pm': 'NNE',\n",
    "             'WindSpeed9am': 13.0,\n",
    "             'WindSpeed3pm': 20.0,\n",
    "             'Humidity9am': 89.0,\n",
    "             'Humidity3pm': 58.0,\n",
    "             'Pressure9am': 1004.8,\n",
    "             'Pressure3pm': 1001.5,\n",
    "             'Cloud9am': 8.0,\n",
    "             'Cloud3pm': 5.0,\n",
    "             'Temp9am': 25.7,\n",
    "             'Temp3pm': 33.0,\n",
    "             'RainToday': 'Yes'}"
   ]
  },
  {
   "cell_type": "code",
   "execution_count": 12,
   "metadata": {},
   "outputs": [],
   "source": [
    "predict_input(new_input)"
   ]
  }
 ],
 "metadata": {
  "interpreter": {
   "hash": "916dbcbb3f70747c44a77c7bcd40155683ae19c65e1c03b4aa3499c5328201f1"
  },
  "kernelspec": {
   "display_name": "Python 3.8.10 64-bit",
   "language": "python",
   "name": "python3"
  },
  "language_info": {
   "codemirror_mode": {
    "name": "ipython",
    "version": 3
   },
   "file_extension": ".py",
   "mimetype": "text/x-python",
   "name": "python",
   "nbconvert_exporter": "python",
   "pygments_lexer": "ipython3",
   "version": "3.8.10"
  },
  "orig_nbformat": 4
 },
 "nbformat": 4,
 "nbformat_minor": 2
}
